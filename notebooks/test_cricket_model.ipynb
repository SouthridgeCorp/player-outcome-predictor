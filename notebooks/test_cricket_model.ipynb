{
 "cells": [
  {
   "cell_type": "code",
   "execution_count": 1,
   "id": "9986134b",
   "metadata": {},
   "outputs": [],
   "source": [
    "import warnings\n",
    "\n",
    "import arviz as az\n",
    "import matplotlib.pyplot as plt\n",
    "import numpy as np\n",
    "import pandas as pd\n",
    "import pymc as pm\n",
    "import seaborn as sns\n",
    "from IPython.display import Image\n",
    "\n",
    "# import jupyter_black\n",
    "# jupyter_black.load()\n",
    "\n",
    "az.style.use(\"arviz-darkgrid\")\n",
    "RANDOM_SEED = 8265\n",
    "np.random.seed(RANDOM_SEED)\n",
    "\n",
    "np.set_printoptions(2)\n",
    "\n",
    "# filter out Seaborn UserWarnings\n",
    "warnings.filterwarnings(action=\"ignore\", category=UserWarning, module=r\"seaborn\")\n",
    "# warnings.filterwarnings(action=\"ignore\", category=RuntimeWarning, module=r\"scipy\")\n",
    "from warnings import simplefilter, warn\n",
    "\n",
    "simplefilter(\"ignore\")"
   ]
  },
  {
   "cell_type": "code",
   "execution_count": 2,
   "id": "c62d2c5d",
   "metadata": {},
   "outputs": [],
   "source": [
    "import scipy.stats as sps"
   ]
  },
  {
   "cell_type": "markdown",
   "id": "27e073e6",
   "metadata": {},
   "source": [
    "**GENERATE DATA**"
   ]
  },
  {
   "cell_type": "code",
   "execution_count": 3,
   "id": "8f7a86e1",
   "metadata": {},
   "outputs": [],
   "source": [
    "num_teams = 10\n",
    "num_matches = num_teams*(num_teams-1)\n",
    "toss_won_by_team1_probability = sps.bernoulli(p=0.5)\n",
    "toss_won_by_team1_outcomes_by_match = toss_won_by_team1_probability.rvs(num_matches)"
   ]
  },
  {
   "cell_type": "code",
   "execution_count": 4,
   "id": "6a8995cf",
   "metadata": {},
   "outputs": [
    {
     "data": {
      "text/plain": [
       "array([1, 1, 0, 0, 0, 0, 0, 0, 0, 1, 0, 0, 1, 0, 1, 0, 0, 1, 0, 1, 0, 1,\n",
       "       1, 1, 1, 1, 0, 0, 1, 1, 1, 0, 0, 0, 0, 0, 1, 0, 1, 0, 0, 1, 0, 1,\n",
       "       1, 1, 1, 1, 0, 0, 1, 0, 1, 1, 1, 0, 0, 0, 0, 0, 0, 0, 1, 1, 0, 0,\n",
       "       0, 1, 0, 1, 1, 0, 0, 1, 1, 0, 1, 1, 0, 1, 1, 1, 0, 0, 1, 1, 1, 1,\n",
       "       0, 1])"
      ]
     },
     "execution_count": 4,
     "metadata": {},
     "output_type": "execute_result"
    }
   ],
   "source": [
    "toss_won_by_team1_outcomes_by_match"
   ]
  },
  {
   "cell_type": "code",
   "execution_count": 5,
   "id": "184b6e9c",
   "metadata": {},
   "outputs": [
    {
     "data": {
      "text/plain": [
       "0.4888888888888889"
      ]
     },
     "execution_count": 5,
     "metadata": {},
     "output_type": "execute_result"
    }
   ],
   "source": [
    "np.mean(toss_won_by_team1_outcomes_by_match)"
   ]
  },
  {
   "cell_type": "code",
   "execution_count": 6,
   "id": "d39df0ca",
   "metadata": {},
   "outputs": [],
   "source": [
    "toss_winning_team_bowls_probability = sps.bernoulli(p=0.8)\n",
    "toss_winning_team_bowls_outcomes = toss_winning_team_bowls_probability.rvs(num_matches)"
   ]
  },
  {
   "cell_type": "code",
   "execution_count": 7,
   "id": "b36b85b5",
   "metadata": {},
   "outputs": [
    {
     "data": {
      "text/plain": [
       "array([0, 0, 1, 0, 1, 1, 1, 1, 1, 1, 1, 1, 1, 1, 1, 1, 0, 1, 0, 0, 1, 0,\n",
       "       0, 1, 1, 1, 1, 1, 1, 0, 1, 1, 1, 1, 1, 1, 0, 1, 0, 1, 1, 1, 1, 1,\n",
       "       0, 1, 1, 1, 1, 1, 1, 1, 0, 1, 1, 1, 1, 1, 1, 1, 1, 0, 1, 0, 1, 1,\n",
       "       1, 1, 1, 1, 0, 1, 1, 1, 0, 0, 1, 1, 1, 1, 1, 1, 1, 1, 1, 1, 1, 1,\n",
       "       1, 1])"
      ]
     },
     "execution_count": 7,
     "metadata": {},
     "output_type": "execute_result"
    }
   ],
   "source": [
    "toss_winning_team_bowls_outcomes"
   ]
  },
  {
   "cell_type": "code",
   "execution_count": 8,
   "id": "6394218a",
   "metadata": {},
   "outputs": [
    {
     "data": {
      "text/plain": [
       "0.8"
      ]
     },
     "execution_count": 8,
     "metadata": {},
     "output_type": "execute_result"
    }
   ],
   "source": [
    "np.mean(toss_winning_team_bowls_outcomes)"
   ]
  },
  {
   "cell_type": "code",
   "execution_count": 9,
   "id": "fb82794f",
   "metadata": {},
   "outputs": [],
   "source": [
    "teams = np.arange(0,num_teams)\n",
    "team_combinations = np.array(np.meshgrid(teams,teams)).T.reshape(-1,2)\n",
    "team_combinations_df = pd.DataFrame(team_combinations,\n",
    "                                    columns = ['team1','team2'])\n",
    "team_combinations_df = team_combinations_df.loc[team_combinations_df.team1!=team_combinations_df.team2].reset_index(drop=True)"
   ]
  },
  {
   "cell_type": "code",
   "execution_count": 10,
   "id": "8e1b6893",
   "metadata": {},
   "outputs": [
    {
     "data": {
      "text/html": [
       "<div>\n",
       "<style scoped>\n",
       "    .dataframe tbody tr th:only-of-type {\n",
       "        vertical-align: middle;\n",
       "    }\n",
       "\n",
       "    .dataframe tbody tr th {\n",
       "        vertical-align: top;\n",
       "    }\n",
       "\n",
       "    .dataframe thead th {\n",
       "        text-align: right;\n",
       "    }\n",
       "</style>\n",
       "<table border=\"1\" class=\"dataframe\">\n",
       "  <thead>\n",
       "    <tr style=\"text-align: right;\">\n",
       "      <th></th>\n",
       "      <th>team1</th>\n",
       "      <th>team2</th>\n",
       "    </tr>\n",
       "  </thead>\n",
       "  <tbody>\n",
       "    <tr>\n",
       "      <th>0</th>\n",
       "      <td>0</td>\n",
       "      <td>1</td>\n",
       "    </tr>\n",
       "    <tr>\n",
       "      <th>1</th>\n",
       "      <td>0</td>\n",
       "      <td>2</td>\n",
       "    </tr>\n",
       "    <tr>\n",
       "      <th>2</th>\n",
       "      <td>0</td>\n",
       "      <td>3</td>\n",
       "    </tr>\n",
       "    <tr>\n",
       "      <th>3</th>\n",
       "      <td>0</td>\n",
       "      <td>4</td>\n",
       "    </tr>\n",
       "    <tr>\n",
       "      <th>4</th>\n",
       "      <td>0</td>\n",
       "      <td>5</td>\n",
       "    </tr>\n",
       "    <tr>\n",
       "      <th>...</th>\n",
       "      <td>...</td>\n",
       "      <td>...</td>\n",
       "    </tr>\n",
       "    <tr>\n",
       "      <th>85</th>\n",
       "      <td>9</td>\n",
       "      <td>4</td>\n",
       "    </tr>\n",
       "    <tr>\n",
       "      <th>86</th>\n",
       "      <td>9</td>\n",
       "      <td>5</td>\n",
       "    </tr>\n",
       "    <tr>\n",
       "      <th>87</th>\n",
       "      <td>9</td>\n",
       "      <td>6</td>\n",
       "    </tr>\n",
       "    <tr>\n",
       "      <th>88</th>\n",
       "      <td>9</td>\n",
       "      <td>7</td>\n",
       "    </tr>\n",
       "    <tr>\n",
       "      <th>89</th>\n",
       "      <td>9</td>\n",
       "      <td>8</td>\n",
       "    </tr>\n",
       "  </tbody>\n",
       "</table>\n",
       "<p>90 rows × 2 columns</p>\n",
       "</div>"
      ],
      "text/plain": [
       "    team1  team2\n",
       "0       0      1\n",
       "1       0      2\n",
       "2       0      3\n",
       "3       0      4\n",
       "4       0      5\n",
       "..    ...    ...\n",
       "85      9      4\n",
       "86      9      5\n",
       "87      9      6\n",
       "88      9      7\n",
       "89      9      8\n",
       "\n",
       "[90 rows x 2 columns]"
      ]
     },
     "execution_count": 10,
     "metadata": {},
     "output_type": "execute_result"
    }
   ],
   "source": [
    "team_combinations_df"
   ]
  },
  {
   "cell_type": "code",
   "execution_count": 11,
   "id": "9c8f818e",
   "metadata": {},
   "outputs": [],
   "source": [
    "def get_toss_winning_team(row):\n",
    "    if row['toss_won_by_team1'] == 1:\n",
    "        return row['team1']\n",
    "    else:\n",
    "        return row['team2']\n",
    "\n",
    "def get_toss_losing_team(row):\n",
    "    if row['toss_won_by_team1'] == 1:\n",
    "        return row['team2']\n",
    "    else:\n",
    "        return row['team1']\n",
    "    \n",
    "def get_innings1_bowling_team(row):\n",
    "    if row['toss_winning_team_bowls'] == 1:\n",
    "        return row['toss_winning_team']\n",
    "    else:\n",
    "        return row['toss_losing_team']\n",
    "    \n",
    "def get_innings1_batting_team(row):\n",
    "    if row['toss_winning_team_bowls'] == 1:\n",
    "        return row['toss_losing_team']\n",
    "    else:\n",
    "        return row['toss_winning_team']\n",
    "    \n",
    "def get_innings2_bowling_team(row):\n",
    "    if row['toss_winning_team_bowls'] == 1:\n",
    "        return row['toss_losing_team']\n",
    "    else:\n",
    "        return row['toss_winning_team']\n",
    "    \n",
    "def get_innings2_batting_team(row):\n",
    "    if row['toss_winning_team_bowls'] == 1:\n",
    "        return row['toss_winning_team']\n",
    "    else:\n",
    "        return row['toss_losing_team']\n",
    "    \n",
    "matches_df = team_combinations_df.copy()\n",
    "matches_df['match_key'] = np.arange(0,num_matches)\n",
    "matches_df['toss_won_by_team1'] = toss_won_by_team1_outcomes_by_match\n",
    "matches_df['toss_winning_team'] = matches_df.apply(get_toss_winning_team,\n",
    "                                                   axis=1)\n",
    "matches_df['toss_losing_team'] = matches_df.apply(get_toss_losing_team,\n",
    "                                                   axis=1)\n",
    "matches_df['toss_winning_team_bowls'] = toss_winning_team_bowls_outcomes\n",
    "matches_df['innings1_batting_team'] = matches_df.apply(get_innings1_batting_team,\n",
    "                                                       axis=1)\n",
    "matches_df['innings1_bowling_team'] = matches_df.apply(get_innings1_bowling_team,\n",
    "                                                       axis=1)\n",
    "matches_df['innings2_batting_team'] = matches_df.apply(get_innings2_batting_team,\n",
    "                                                       axis=1)\n",
    "matches_df['innings2_bowling_team'] = matches_df.apply(get_innings2_bowling_team,\n",
    "                                                       axis=1)"
   ]
  },
  {
   "cell_type": "code",
   "execution_count": 12,
   "id": "0ac2ccbb",
   "metadata": {},
   "outputs": [
    {
     "data": {
      "text/html": [
       "<div>\n",
       "<style scoped>\n",
       "    .dataframe tbody tr th:only-of-type {\n",
       "        vertical-align: middle;\n",
       "    }\n",
       "\n",
       "    .dataframe tbody tr th {\n",
       "        vertical-align: top;\n",
       "    }\n",
       "\n",
       "    .dataframe thead th {\n",
       "        text-align: right;\n",
       "    }\n",
       "</style>\n",
       "<table border=\"1\" class=\"dataframe\">\n",
       "  <thead>\n",
       "    <tr style=\"text-align: right;\">\n",
       "      <th></th>\n",
       "      <th>team1</th>\n",
       "      <th>team2</th>\n",
       "      <th>match_key</th>\n",
       "      <th>toss_won_by_team1</th>\n",
       "      <th>toss_winning_team</th>\n",
       "      <th>toss_losing_team</th>\n",
       "      <th>toss_winning_team_bowls</th>\n",
       "      <th>innings1_batting_team</th>\n",
       "      <th>innings1_bowling_team</th>\n",
       "      <th>innings2_batting_team</th>\n",
       "      <th>innings2_bowling_team</th>\n",
       "    </tr>\n",
       "  </thead>\n",
       "  <tbody>\n",
       "    <tr>\n",
       "      <th>0</th>\n",
       "      <td>0</td>\n",
       "      <td>1</td>\n",
       "      <td>0</td>\n",
       "      <td>1</td>\n",
       "      <td>0</td>\n",
       "      <td>1</td>\n",
       "      <td>0</td>\n",
       "      <td>0</td>\n",
       "      <td>1</td>\n",
       "      <td>1</td>\n",
       "      <td>0</td>\n",
       "    </tr>\n",
       "    <tr>\n",
       "      <th>1</th>\n",
       "      <td>0</td>\n",
       "      <td>2</td>\n",
       "      <td>1</td>\n",
       "      <td>1</td>\n",
       "      <td>0</td>\n",
       "      <td>2</td>\n",
       "      <td>0</td>\n",
       "      <td>0</td>\n",
       "      <td>2</td>\n",
       "      <td>2</td>\n",
       "      <td>0</td>\n",
       "    </tr>\n",
       "    <tr>\n",
       "      <th>2</th>\n",
       "      <td>0</td>\n",
       "      <td>3</td>\n",
       "      <td>2</td>\n",
       "      <td>0</td>\n",
       "      <td>3</td>\n",
       "      <td>0</td>\n",
       "      <td>1</td>\n",
       "      <td>0</td>\n",
       "      <td>3</td>\n",
       "      <td>3</td>\n",
       "      <td>0</td>\n",
       "    </tr>\n",
       "    <tr>\n",
       "      <th>3</th>\n",
       "      <td>0</td>\n",
       "      <td>4</td>\n",
       "      <td>3</td>\n",
       "      <td>0</td>\n",
       "      <td>4</td>\n",
       "      <td>0</td>\n",
       "      <td>0</td>\n",
       "      <td>4</td>\n",
       "      <td>0</td>\n",
       "      <td>0</td>\n",
       "      <td>4</td>\n",
       "    </tr>\n",
       "    <tr>\n",
       "      <th>4</th>\n",
       "      <td>0</td>\n",
       "      <td>5</td>\n",
       "      <td>4</td>\n",
       "      <td>0</td>\n",
       "      <td>5</td>\n",
       "      <td>0</td>\n",
       "      <td>1</td>\n",
       "      <td>0</td>\n",
       "      <td>5</td>\n",
       "      <td>5</td>\n",
       "      <td>0</td>\n",
       "    </tr>\n",
       "    <tr>\n",
       "      <th>...</th>\n",
       "      <td>...</td>\n",
       "      <td>...</td>\n",
       "      <td>...</td>\n",
       "      <td>...</td>\n",
       "      <td>...</td>\n",
       "      <td>...</td>\n",
       "      <td>...</td>\n",
       "      <td>...</td>\n",
       "      <td>...</td>\n",
       "      <td>...</td>\n",
       "      <td>...</td>\n",
       "    </tr>\n",
       "    <tr>\n",
       "      <th>85</th>\n",
       "      <td>9</td>\n",
       "      <td>4</td>\n",
       "      <td>85</td>\n",
       "      <td>1</td>\n",
       "      <td>9</td>\n",
       "      <td>4</td>\n",
       "      <td>1</td>\n",
       "      <td>4</td>\n",
       "      <td>9</td>\n",
       "      <td>9</td>\n",
       "      <td>4</td>\n",
       "    </tr>\n",
       "    <tr>\n",
       "      <th>86</th>\n",
       "      <td>9</td>\n",
       "      <td>5</td>\n",
       "      <td>86</td>\n",
       "      <td>1</td>\n",
       "      <td>9</td>\n",
       "      <td>5</td>\n",
       "      <td>1</td>\n",
       "      <td>5</td>\n",
       "      <td>9</td>\n",
       "      <td>9</td>\n",
       "      <td>5</td>\n",
       "    </tr>\n",
       "    <tr>\n",
       "      <th>87</th>\n",
       "      <td>9</td>\n",
       "      <td>6</td>\n",
       "      <td>87</td>\n",
       "      <td>1</td>\n",
       "      <td>9</td>\n",
       "      <td>6</td>\n",
       "      <td>1</td>\n",
       "      <td>6</td>\n",
       "      <td>9</td>\n",
       "      <td>9</td>\n",
       "      <td>6</td>\n",
       "    </tr>\n",
       "    <tr>\n",
       "      <th>88</th>\n",
       "      <td>9</td>\n",
       "      <td>7</td>\n",
       "      <td>88</td>\n",
       "      <td>0</td>\n",
       "      <td>7</td>\n",
       "      <td>9</td>\n",
       "      <td>1</td>\n",
       "      <td>9</td>\n",
       "      <td>7</td>\n",
       "      <td>7</td>\n",
       "      <td>9</td>\n",
       "    </tr>\n",
       "    <tr>\n",
       "      <th>89</th>\n",
       "      <td>9</td>\n",
       "      <td>8</td>\n",
       "      <td>89</td>\n",
       "      <td>1</td>\n",
       "      <td>9</td>\n",
       "      <td>8</td>\n",
       "      <td>1</td>\n",
       "      <td>8</td>\n",
       "      <td>9</td>\n",
       "      <td>9</td>\n",
       "      <td>8</td>\n",
       "    </tr>\n",
       "  </tbody>\n",
       "</table>\n",
       "<p>90 rows × 11 columns</p>\n",
       "</div>"
      ],
      "text/plain": [
       "    team1  team2  match_key  toss_won_by_team1  toss_winning_team  \\\n",
       "0       0      1          0                  1                  0   \n",
       "1       0      2          1                  1                  0   \n",
       "2       0      3          2                  0                  3   \n",
       "3       0      4          3                  0                  4   \n",
       "4       0      5          4                  0                  5   \n",
       "..    ...    ...        ...                ...                ...   \n",
       "85      9      4         85                  1                  9   \n",
       "86      9      5         86                  1                  9   \n",
       "87      9      6         87                  1                  9   \n",
       "88      9      7         88                  0                  7   \n",
       "89      9      8         89                  1                  9   \n",
       "\n",
       "    toss_losing_team  toss_winning_team_bowls  innings1_batting_team  \\\n",
       "0                  1                        0                      0   \n",
       "1                  2                        0                      0   \n",
       "2                  0                        1                      0   \n",
       "3                  0                        0                      4   \n",
       "4                  0                        1                      0   \n",
       "..               ...                      ...                    ...   \n",
       "85                 4                        1                      4   \n",
       "86                 5                        1                      5   \n",
       "87                 6                        1                      6   \n",
       "88                 9                        1                      9   \n",
       "89                 8                        1                      8   \n",
       "\n",
       "    innings1_bowling_team  innings2_batting_team  innings2_bowling_team  \n",
       "0                       1                      1                      0  \n",
       "1                       2                      2                      0  \n",
       "2                       3                      3                      0  \n",
       "3                       0                      0                      4  \n",
       "4                       5                      5                      0  \n",
       "..                    ...                    ...                    ...  \n",
       "85                      9                      9                      4  \n",
       "86                      9                      9                      5  \n",
       "87                      9                      9                      6  \n",
       "88                      7                      7                      9  \n",
       "89                      9                      9                      8  \n",
       "\n",
       "[90 rows x 11 columns]"
      ]
     },
     "execution_count": 12,
     "metadata": {},
     "output_type": "execute_result"
    }
   ],
   "source": [
    "matches_df"
   ]
  },
  {
   "cell_type": "code",
   "execution_count": 15,
   "id": "8b67a92e",
   "metadata": {},
   "outputs": [],
   "source": [
    "num_players = 11\n",
    "players_by_team = np.tile(np.arange(11),(num_teams,1))"
   ]
  },
  {
   "cell_type": "code",
   "execution_count": 16,
   "id": "e7ac44da",
   "metadata": {},
   "outputs": [
    {
     "data": {
      "text/plain": [
       "array([[ 0,  1,  2,  3,  4,  5,  6,  7,  8,  9, 10],\n",
       "       [ 0,  1,  2,  3,  4,  5,  6,  7,  8,  9, 10],\n",
       "       [ 0,  1,  2,  3,  4,  5,  6,  7,  8,  9, 10],\n",
       "       [ 0,  1,  2,  3,  4,  5,  6,  7,  8,  9, 10],\n",
       "       [ 0,  1,  2,  3,  4,  5,  6,  7,  8,  9, 10],\n",
       "       [ 0,  1,  2,  3,  4,  5,  6,  7,  8,  9, 10],\n",
       "       [ 0,  1,  2,  3,  4,  5,  6,  7,  8,  9, 10],\n",
       "       [ 0,  1,  2,  3,  4,  5,  6,  7,  8,  9, 10],\n",
       "       [ 0,  1,  2,  3,  4,  5,  6,  7,  8,  9, 10],\n",
       "       [ 0,  1,  2,  3,  4,  5,  6,  7,  8,  9, 10]])"
      ]
     },
     "execution_count": 16,
     "metadata": {},
     "output_type": "execute_result"
    }
   ],
   "source": [
    "players_by_team"
   ]
  },
  {
   "cell_type": "code",
   "execution_count": 22,
   "id": "4eb49572",
   "metadata": {},
   "outputs": [
    {
     "name": "stdout",
     "output_type": "stream",
     "text": [
      "(0, (13, 11))\n",
      "(1, (7, 11))\n",
      "(2, (6, 11))\n",
      "(3, (9, 11))\n",
      "(4, (13, 11))\n",
      "(5, (6, 11))\n",
      "(6, (12, 11))\n",
      "(7, (9, 11))\n",
      "(8, (8, 11))\n",
      "(9, (7, 11))\n"
     ]
    }
   ],
   "source": [
    "for innings1_batting_team, innings1_batting_team_matches in matches_df.groupby('innings1_batting_team'):\n",
    "    print((innings1_batting_team, innings1_batting_team_matches.shape))"
   ]
  },
  {
   "cell_type": "code",
   "execution_count": 21,
   "id": "2c691a54",
   "metadata": {},
   "outputs": [
    {
     "data": {
      "text/plain": [
       "(13, 11)"
      ]
     },
     "execution_count": 21,
     "metadata": {},
     "output_type": "execute_result"
    }
   ],
   "source": [
    "innings1_batting_team_matches.shape"
   ]
  },
  {
   "cell_type": "code",
   "execution_count": null,
   "id": "c62ea744",
   "metadata": {},
   "outputs": [],
   "source": [
    "teams_idx, team = matches_df.team1.factorize()\n",
    "toss_winning_team_idx, _ = matches_df.toss_winning_team.factorize()\n",
    "matches_idx, matches = matches_df.match_key.factorize()\n",
    "innings1_batting_team_idx, _ = matches_df.innings1_batting_team.factorize()\n",
    "innings1_bowling_team_idx, _ = matches_df.innings1_bowling_team.factorize()\n",
    "\n",
    "COORDS = {\n",
    "    \"matches\": matches,\n",
    "    \"teams\": teams\n",
    "}"
   ]
  },
  {
   "cell_type": "code",
   "execution_count": null,
   "id": "d2292d99",
   "metadata": {},
   "outputs": [],
   "source": [
    "from scipy.special import comb\n",
    "num_starting_pairs = comb(11,2)"
   ]
  },
  {
   "cell_type": "code",
   "execution_count": null,
   "id": "1d3099d8",
   "metadata": {},
   "outputs": [],
   "source": [
    "num_starting_pairs"
   ]
  },
  {
   "cell_type": "code",
   "execution_count": null,
   "id": "07749393",
   "metadata": {},
   "outputs": [],
   "source": [
    "len(team)"
   ]
  },
  {
   "cell_type": "code",
   "execution_count": null,
   "id": "41f23ac9",
   "metadata": {},
   "outputs": [],
   "source": [
    "with pm.Model(coords = COORDS) as innings_layout_model_complex:\n",
    "    toss_winning_team_bowls_data = pm.MutableData(\"toss_winning_team_bowls_data\",\n",
    "                                                  matches_df.toss_winning_team_bowls.values)\n",
    "    toss_winning_team_idx_ = pm.MutableData(\"toss_winning_team_idx\",\n",
    "                                            toss_winning_team_idx)\n",
    "    innings1_batting_team_idx_ = pm.MutableData(\"innings1_batting_team_idx\",\n",
    "                                                innings1_batting_team_idx)\n",
    "    innings1_bowling_team_idx_ = pm.MutableData(\"innings1_bowling_team_idx\",\n",
    "                                                innings1_bowling_team_idx)\n",
    "    toss_outcome_rv = pm.Bernoulli(\"toss_outcome_rv\",\n",
    "                                   p=0.5,\n",
    "                                   dims = \"matches\")\n",
    "    p_bowls_given_won_toss_rv = pm.Beta('p_bowls_given_won_toss_rv',\n",
    "                                        2,\n",
    "                                        10,\n",
    "                                        dims = \"toss_winning_team\")\n",
    "    toss_winning_team_bowls_rv = pm.Bernoulli(\"toss_winning_team_bowls_rv\",\n",
    "                                              p = p_bowls_given_won_toss_rv[toss_winning_team_idx_],\n",
    "                                              dims = \"matches\",\n",
    "                                              observed = toss_winning_team_bowls_data)\n",
    "    team1_bowls_rv = pm.Deterministic(\"team1_bowls_rv\",\n",
    "                                      toss_outcome_rv*toss_winning_team_bowls_rv)\n",
    "    innings1_starting_batsman_prob_rv = pm.Dirichlet(\"innings1_starting_batsman_prob_rv\",\n",
    "                                                    a = np.ones(shape=(len(team),\n",
    "                                                                       11)))\n",
    "    innings1_starting_batsman_rv = pm.Multinomial(\"innings1_starting_batsman_rv\",\n",
    "                                               n = 1,\n",
    "                                               p = innings1_starting_batsman_prob_rv[innings1_batting_team_idx],\n",
    "                                               dims = \"matches\")\n",
    "    innings1_starting_bowler_prob_rv = pm.Dirichlet(\"innings1_starting_bowler_prob_rv\",\n",
    "                                                    a = np.ones(shape = (len(team),11)))\n",
    "    innings1_starting_bowler_rv = pm.Multinomial(\"innings1_starting_bowler_rv\",\n",
    "                                                 n = 1,\n",
    "                                                 p = innings1_starting_bowler_prob_rv[innings1_bowling_team_idx],\n",
    "                                                 dims = \"matches\")\n",
    "    \n",
    "\n",
    "pm.model_to_graphviz(innings_layout_model_complex)"
   ]
  },
  {
   "cell_type": "code",
   "execution_count": null,
   "id": "15727477",
   "metadata": {},
   "outputs": [],
   "source": [
    "with innings_layout_model_complex:\n",
    "    idata = pm.sample()"
   ]
  },
  {
   "cell_type": "code",
   "execution_count": null,
   "id": "0a483cbf",
   "metadata": {},
   "outputs": [],
   "source": [
    "innings1_starting_batsman_prob_rv_post = idata.posterior.stack(draws=(\"chain\", \"draw\"))[\"innings1_starting_batsman_prob_rv\"].values\n",
    "innings1_starting_batsman_rv_post = idata.posterior.stack(draws=(\"chain\", \"draw\"))[\"innings1_starting_batsma_rv\"].values"
   ]
  },
  {
   "cell_type": "code",
   "execution_count": null,
   "id": "aa7dc7e5",
   "metadata": {},
   "outputs": [],
   "source": [
    "innings1_starting_batsman_prob_rv_post[0,:,1000]*100"
   ]
  },
  {
   "cell_type": "code",
   "execution_count": null,
   "id": "a3bdaa3f",
   "metadata": {},
   "outputs": [],
   "source": [
    "p_bowls_given_won_toss_rv_post = idata.posterior.stack(draws=(\"chain\", \"draw\"))[\"p_bowls_given_won_toss_rv\"].values"
   ]
  },
  {
   "cell_type": "code",
   "execution_count": null,
   "id": "ec84a10c",
   "metadata": {},
   "outputs": [],
   "source": [
    "p_bowls_given_won_toss_rv_post.shape"
   ]
  },
  {
   "cell_type": "code",
   "execution_count": null,
   "id": "8a4c474f",
   "metadata": {},
   "outputs": [],
   "source": [
    "idata"
   ]
  },
  {
   "cell_type": "code",
   "execution_count": null,
   "id": "45bd5233",
   "metadata": {},
   "outputs": [],
   "source": [
    "toss_winning_team"
   ]
  },
  {
   "cell_type": "code",
   "execution_count": null,
   "id": "78681861",
   "metadata": {},
   "outputs": [],
   "source": [
    "team1_bowls_rv_post = idata.posterior.stack(draws=(\"chain\", \"draw\"))[\"team1_bowls_rv\"].values"
   ]
  },
  {
   "cell_type": "code",
   "execution_count": null,
   "id": "58f34ecd",
   "metadata": {},
   "outputs": [],
   "source": [
    "team1_bowls_rv_post.shape"
   ]
  },
  {
   "cell_type": "code",
   "execution_count": null,
   "id": "670717ee",
   "metadata": {
    "scrolled": true
   },
   "outputs": [],
   "source": [
    "i = 0\n",
    "ax = sns.histplot(p_bowls_given_won_toss_rv_post[i])\n",
    "ax.set_xlabel(\"Conversion rate\")\n",
    "ax.set_ylabel(\"Plausible value count\")"
   ]
  },
  {
   "cell_type": "code",
   "execution_count": null,
   "id": "1d6cafb6",
   "metadata": {},
   "outputs": [],
   "source": [
    "ax = sns.histplot(matches_df.loc[matches_df.toss_winning_team==i].toss_winning_team_bowls)\n",
    "ax.set_xlabel(\"Conversion rate\")\n",
    "ax.set_ylabel(\"Plausible value count\")"
   ]
  },
  {
   "cell_type": "code",
   "execution_count": null,
   "id": "829a65b6",
   "metadata": {},
   "outputs": [],
   "source": [
    "idata.observed_data.stack()['toss_winning_team_bowls_rv']"
   ]
  },
  {
   "cell_type": "code",
   "execution_count": null,
   "id": "372f2673",
   "metadata": {},
   "outputs": [],
   "source": [
    "with pm."
   ]
  }
 ],
 "metadata": {
  "kernelspec": {
   "display_name": "Python 3 (ipykernel)",
   "language": "python",
   "name": "python3"
  },
  "language_info": {
   "codemirror_mode": {
    "name": "ipython",
    "version": 3
   },
   "file_extension": ".py",
   "mimetype": "text/x-python",
   "name": "python",
   "nbconvert_exporter": "python",
   "pygments_lexer": "ipython3",
   "version": "3.10.6"
  }
 },
 "nbformat": 4,
 "nbformat_minor": 5
}
